{
 "cells": [
  {
   "cell_type": "code",
   "execution_count": 35,
   "id": "465233a3-9c16-40e6-8c1e-08dfdce7e699",
   "metadata": {},
   "outputs": [
    {
     "name": "stdout",
     "output_type": "stream",
     "text": [
      "[1 2 3]\n",
      "[[1 3 5]\n",
      " [2 4 5]]\n",
      "[ 3  7 10]\n",
      "[ 2 12 25]\n",
      "39\n",
      "[-5  5 -2]\n",
      "[[ 2  6 10]\n",
      " [ 4  8 10]]\n",
      "[[ 3  9 15]\n",
      " [ 6 12 15]]\n",
      "[[ 2 18 50]\n",
      " [ 8 32 50]]\n",
      "(2, 3)\n"
     ]
    }
   ],
   "source": [
    "# Import numpy as alias np\n",
    "import numpy as np\n",
    "\n",
    "# Create 1d array \n",
    "data = [1,2,3]\n",
    "vector1 = np.array(data)\n",
    "print(vector1)\n",
    "\n",
    "# Compute vector sum\n",
    "sum(vector)\n",
    "\n",
    "# Multiply vector by constant\n",
    "vector * 3\n",
    "\n",
    "# Create two vectors\n",
    "data1 = [1,3,5]\n",
    "data2 = [2,4,5]\n",
    "\n",
    "# Create 2d array\n",
    "matrix = np.array([data1,data2])\n",
    "print(matrix)\n",
    "v1 = matrix[0]\n",
    "v2 = matrix[1]\n",
    "\n",
    "\n",
    "# Sum of vectors\n",
    "print(v1 + v2)\n",
    "\n",
    "# Scalar multiplication of vectors\n",
    "print(v1 * v2)\n",
    "\n",
    "# Dot product of two vectors (how much v1 and v2 are pointed in the same direction)\n",
    "print(np.dot(v1,v2))\n",
    "\n",
    "# Cross product of vectors (returns vector that is perpendicular to v1 and v2)\n",
    "print(np.cross(v1,v2))\n",
    "\n",
    "# Scalar multiplication of matrix\n",
    "matrix_new = matrix*2\n",
    "print(matrix_new)\n",
    "\n",
    "# Matrix addition\n",
    "print(matrix+matrix_new)\n",
    "\n",
    "# Matrix multiplication\n",
    "print(matrix*matrix_new)\n",
    "\n",
    "# Matrix shape check\n",
    "print(matrix.shape)\n",
    "\n",
    "\n",
    "\n",
    "\n",
    "\n",
    "\n"
   ]
  },
  {
   "cell_type": "code",
   "execution_count": null,
   "id": "724c35f6-20fb-4481-abb4-1b4a0ba711ba",
   "metadata": {},
   "outputs": [],
   "source": []
  }
 ],
 "metadata": {
  "kernelspec": {
   "display_name": "Python 3 (ipykernel)",
   "language": "python",
   "name": "python3"
  },
  "language_info": {
   "codemirror_mode": {
    "name": "ipython",
    "version": 3
   },
   "file_extension": ".py",
   "mimetype": "text/x-python",
   "name": "python",
   "nbconvert_exporter": "python",
   "pygments_lexer": "ipython3",
   "version": "3.10.8"
  }
 },
 "nbformat": 4,
 "nbformat_minor": 5
}
