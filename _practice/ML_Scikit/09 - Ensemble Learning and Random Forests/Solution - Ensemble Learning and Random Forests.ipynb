{
 "cells": [
  {
   "cell_type": "markdown",
   "metadata": {},
   "source": [
    "# Ensemble Learning and Random Forests"
   ]
  },
  {
   "cell_type": "markdown",
   "metadata": {},
   "source": [
    "In this module, we will learn how to combine models to create even stronger models. This process is called <b>ensable learning</b>. We will also take a particular look into combining decision trees into ensamble models called random forests."
   ]
  },
  {
   "cell_type": "markdown",
   "metadata": {},
   "source": [
    "<b>Functions and attributes in this lecture: </b>\n",
    "- `sklearn.ensemble` - Submodule for dealing with ensemble algorithms\n",
    " - `VotingClassifier` - Majority vote ensemble for classification\n",
    " - `RandomForestClassifier` - Classification ensemble for bagging with trees"
   ]
  },
  {
   "cell_type": "code",
   "execution_count": 1,
   "metadata": {},
   "outputs": [],
   "source": [
    "# Non-sklearn packages\n",
    "import numpy as np\n",
    "import pandas as pd\n",
    "import matplotlib.pyplot as plt\n",
    "\n",
    "# Sklearn packages\n",
    "from sklearn.tree import DecisionTreeClassifier\n",
    "from sklearn.model_selection import train_test_split\n",
    "from sklearn.metrics import accuracy_score"
   ]
  },
  {
   "cell_type": "code",
   "execution_count": 2,
   "metadata": {},
   "outputs": [
    {
     "name": "stdout",
     "output_type": "stream",
     "text": [
      ".. _breast_cancer_dataset:\n",
      "\n",
      "Breast cancer wisconsin (diagnostic) dataset\n",
      "--------------------------------------------\n",
      "\n",
      "**Data Set Characteristics:**\n",
      "\n",
      "    :Number of Instances: 569\n",
      "\n",
      "    :Number of Attributes: 30 numeric, predictive attributes and the class\n",
      "\n",
      "    :Attribute Information:\n",
      "        - radius (mean of distances from center to points on the perimeter)\n",
      "        - texture (standard deviation of gray-scale values)\n",
      "        - perimeter\n",
      "        - area\n",
      "        - smoothness (local variation in radius lengths)\n",
      "        - compactness (perimeter^2 / area - 1.0)\n",
      "        - concavity (severity of concave portions of the contour)\n",
      "        - concave points (number of concave portions of the contour)\n",
      "        - symmetry\n",
      "        - fractal dimension (\"coastline approximation\" - 1)\n",
      "\n",
      "        The mean, standard error, and \"worst\" or largest (mean of the three\n",
      "        worst/largest values) of these features were computed for each image,\n",
      "        resulting in 30 features.  For instance, field 0 is Mean Radius, field\n",
      "        10 is Radius SE, field 20 is Worst Radius.\n",
      "\n",
      "        - class:\n",
      "                - WDBC-Malignant\n",
      "                - WDBC-Benign\n",
      "\n",
      "    :Summary Statistics:\n",
      "\n",
      "    ===================================== ====== ======\n",
      "                                           Min    Max\n",
      "    ===================================== ====== ======\n",
      "    radius (mean):                        6.981  28.11\n",
      "    texture (mean):                       9.71   39.28\n",
      "    perimeter (mean):                     43.79  188.5\n",
      "    area (mean):                          143.5  2501.0\n",
      "    smoothness (mean):                    0.053  0.163\n",
      "    compactness (mean):                   0.019  0.345\n",
      "    concavity (mean):                     0.0    0.427\n",
      "    concave points (mean):                0.0    0.201\n",
      "    symmetry (mean):                      0.106  0.304\n",
      "    fractal dimension (mean):             0.05   0.097\n",
      "    radius (standard error):              0.112  2.873\n",
      "    texture (standard error):             0.36   4.885\n",
      "    perimeter (standard error):           0.757  21.98\n",
      "    area (standard error):                6.802  542.2\n",
      "    smoothness (standard error):          0.002  0.031\n",
      "    compactness (standard error):         0.002  0.135\n",
      "    concavity (standard error):           0.0    0.396\n",
      "    concave points (standard error):      0.0    0.053\n",
      "    symmetry (standard error):            0.008  0.079\n",
      "    fractal dimension (standard error):   0.001  0.03\n",
      "    radius (worst):                       7.93   36.04\n",
      "    texture (worst):                      12.02  49.54\n",
      "    perimeter (worst):                    50.41  251.2\n",
      "    area (worst):                         185.2  4254.0\n",
      "    smoothness (worst):                   0.071  0.223\n",
      "    compactness (worst):                  0.027  1.058\n",
      "    concavity (worst):                    0.0    1.252\n",
      "    concave points (worst):               0.0    0.291\n",
      "    symmetry (worst):                     0.156  0.664\n",
      "    fractal dimension (worst):            0.055  0.208\n",
      "    ===================================== ====== ======\n",
      "\n",
      "    :Missing Attribute Values: None\n",
      "\n",
      "    :Class Distribution: 212 - Malignant, 357 - Benign\n",
      "\n",
      "    :Creator:  Dr. William H. Wolberg, W. Nick Street, Olvi L. Mangasarian\n",
      "\n",
      "    :Donor: Nick Street\n",
      "\n",
      "    :Date: November, 1995\n",
      "\n",
      "This is a copy of UCI ML Breast Cancer Wisconsin (Diagnostic) datasets.\n",
      "https://goo.gl/U2Uwz2\n",
      "\n",
      "Features are computed from a digitized image of a fine needle\n",
      "aspirate (FNA) of a breast mass.  They describe\n",
      "characteristics of the cell nuclei present in the image.\n",
      "\n",
      "Separating plane described above was obtained using\n",
      "Multisurface Method-Tree (MSM-T) [K. P. Bennett, \"Decision Tree\n",
      "Construction Via Linear Programming.\" Proceedings of the 4th\n",
      "Midwest Artificial Intelligence and Cognitive Science Society,\n",
      "pp. 97-101, 1992], a classification method which uses linear\n",
      "programming to construct a decision tree.  Relevant features\n",
      "were selected using an exhaustive search in the space of 1-4\n",
      "features and 1-3 separating planes.\n",
      "\n",
      "The actual linear program used to obtain the separating plane\n",
      "in the 3-dimensional space is that described in:\n",
      "[K. P. Bennett and O. L. Mangasarian: \"Robust Linear\n",
      "Programming Discrimination of Two Linearly Inseparable Sets\",\n",
      "Optimization Methods and Software 1, 1992, 23-34].\n",
      "\n",
      "This database is also available through the UW CS ftp server:\n",
      "\n",
      "ftp ftp.cs.wisc.edu\n",
      "cd math-prog/cpo-dataset/machine-learn/WDBC/\n",
      "\n",
      ".. topic:: References\n",
      "\n",
      "   - W.N. Street, W.H. Wolberg and O.L. Mangasarian. Nuclear feature extraction \n",
      "     for breast tumor diagnosis. IS&T/SPIE 1993 International Symposium on \n",
      "     Electronic Imaging: Science and Technology, volume 1905, pages 861-870,\n",
      "     San Jose, CA, 1993.\n",
      "   - O.L. Mangasarian, W.N. Street and W.H. Wolberg. Breast cancer diagnosis and \n",
      "     prognosis via linear programming. Operations Research, 43(4), pages 570-577, \n",
      "     July-August 1995.\n",
      "   - W.H. Wolberg, W.N. Street, and O.L. Mangasarian. Machine learning techniques\n",
      "     to diagnose breast cancer from fine-needle aspirates. Cancer Letters 77 (1994) \n",
      "     163-171.\n"
     ]
    }
   ],
   "source": [
    "# Importing the breast cancer dataset\n",
    "from sklearn.datasets import load_breast_cancer\n",
    "\n",
    "# Geting the data and targets\n",
    "X = load_breast_cancer()['data']\n",
    "y = load_breast_cancer()['target']\n",
    "\n",
    "# Divide into training set and test set\n",
    "X_train, X_test, y_train, y_test = train_test_split(X, y, test_size=0.33, random_state=42)\n",
    "\n",
    "# Printing out description of the dataset\n",
    "print(load_breast_cancer()['DESCR'])"
   ]
  },
  {
   "cell_type": "markdown",
   "metadata": {},
   "source": [
    "## Creating many machine learning models"
   ]
  },
  {
   "cell_type": "code",
   "execution_count": 3,
   "metadata": {},
   "outputs": [],
   "source": [
    "# Manually creating decision trees\n",
    "first_decision_tree = DecisionTreeClassifier(random_state=42, max_leaf_nodes=6, max_depth=3)\n",
    "second_decision_tree = DecisionTreeClassifier(random_state=42, max_leaf_nodes=4, max_depth=7)"
   ]
  },
  {
   "cell_type": "code",
   "execution_count": 4,
   "metadata": {},
   "outputs": [
    {
     "name": "stdout",
     "output_type": "stream",
     "text": [
      "[DecisionTreeClassifier(max_depth=2, max_leaf_nodes=2, random_state=42), DecisionTreeClassifier(max_depth=3, max_leaf_nodes=3, random_state=42), DecisionTreeClassifier(max_depth=4, max_leaf_nodes=4, random_state=42), DecisionTreeClassifier(max_depth=5, max_leaf_nodes=5, random_state=42), DecisionTreeClassifier(max_depth=6, max_leaf_nodes=6, random_state=42), DecisionTreeClassifier(max_depth=7, max_leaf_nodes=7, random_state=42), DecisionTreeClassifier(max_depth=8, max_leaf_nodes=8, random_state=42), DecisionTreeClassifier(max_depth=9, max_leaf_nodes=9, random_state=42), DecisionTreeClassifier(max_depth=10, max_leaf_nodes=10, random_state=42), DecisionTreeClassifier(max_depth=11, max_leaf_nodes=11, random_state=42)]\n"
     ]
    }
   ],
   "source": [
    "# Creating ten decision trees\n",
    "ten_decision_trees = []\n",
    "for i in range(2, 12):\n",
    "    ten_decision_trees.append(DecisionTreeClassifier(random_state=42, max_leaf_nodes=i, max_depth=i))\n",
    "    \n",
    "print(ten_decision_trees)"
   ]
  },
  {
   "cell_type": "code",
   "execution_count": 5,
   "metadata": {},
   "outputs": [
    {
     "name": "stdout",
     "output_type": "stream",
     "text": [
      "[DecisionTreeClassifier(max_depth=2, max_leaf_nodes=2, random_state=42), DecisionTreeClassifier(max_depth=3, max_leaf_nodes=3, random_state=42), DecisionTreeClassifier(max_depth=4, max_leaf_nodes=4, random_state=42), DecisionTreeClassifier(max_depth=5, max_leaf_nodes=5, random_state=42), DecisionTreeClassifier(max_depth=6, max_leaf_nodes=6, random_state=42), DecisionTreeClassifier(max_depth=7, max_leaf_nodes=7, random_state=42), DecisionTreeClassifier(max_depth=8, max_leaf_nodes=8, random_state=42), DecisionTreeClassifier(max_depth=9, max_leaf_nodes=9, random_state=42), DecisionTreeClassifier(max_depth=10, max_leaf_nodes=10, random_state=42), DecisionTreeClassifier(max_depth=11, max_leaf_nodes=11, random_state=42)]\n"
     ]
    }
   ],
   "source": [
    "# Using list comprehensions\n",
    "ten_decision_trees = [DecisionTreeClassifier(random_state=42, max_leaf_nodes=i, max_depth=i) for i in range(2, 12)]\n",
    "print(ten_decision_trees)"
   ]
  },
  {
   "cell_type": "markdown",
   "metadata": {},
   "source": [
    "## Creating an ensemble majority vote"
   ]
  },
  {
   "cell_type": "code",
   "execution_count": 6,
   "metadata": {},
   "outputs": [],
   "source": [
    "# Creating the models\n",
    "decision_tree_models = [DecisionTreeClassifier(random_state=i, max_leaf_nodes=i, max_depth=i) for i in range(2, 102)]"
   ]
  },
  {
   "cell_type": "code",
   "execution_count": 7,
   "metadata": {
    "scrolled": true
   },
   "outputs": [],
   "source": [
    "# Fitting the models\n",
    "for model in decision_tree_models:\n",
    "    model.fit(X_train, y_train)"
   ]
  },
  {
   "cell_type": "code",
   "execution_count": 8,
   "metadata": {
    "scrolled": true
   },
   "outputs": [
    {
     "name": "stdout",
     "output_type": "stream",
     "text": [
      "Accuracy score:  0.888\n",
      "Accuracy score:  0.899\n",
      "Accuracy score:  0.926\n",
      "Accuracy score:  0.952\n",
      "Accuracy score:  0.957\n",
      "Accuracy score:  0.952\n",
      "Accuracy score:  0.947\n",
      "Accuracy score:  0.931\n",
      "Accuracy score:  0.941\n",
      "Accuracy score:  0.931\n",
      "Accuracy score:  0.947\n",
      "Accuracy score:  0.899\n",
      "Accuracy score:  0.931\n",
      "Accuracy score:  0.92\n",
      "Accuracy score:  0.936\n",
      "Accuracy score:  0.92\n",
      "Accuracy score:  0.92\n",
      "Accuracy score:  0.936\n",
      "Accuracy score:  0.904\n",
      "Accuracy score:  0.888\n",
      "Accuracy score:  0.926\n",
      "Accuracy score:  0.92\n",
      "Accuracy score:  0.91\n",
      "Accuracy score:  0.883\n",
      "Accuracy score:  0.91\n",
      "Accuracy score:  0.92\n",
      "Accuracy score:  0.904\n",
      "Accuracy score:  0.904\n",
      "Accuracy score:  0.926\n",
      "Accuracy score:  0.899\n",
      "Accuracy score:  0.92\n",
      "Accuracy score:  0.926\n",
      "Accuracy score:  0.904\n",
      "Accuracy score:  0.91\n",
      "Accuracy score:  0.941\n",
      "Accuracy score:  0.926\n",
      "Accuracy score:  0.91\n",
      "Accuracy score:  0.915\n",
      "Accuracy score:  0.915\n",
      "Accuracy score:  0.904\n",
      "Accuracy score:  0.926\n",
      "Accuracy score:  0.888\n",
      "Accuracy score:  0.91\n",
      "Accuracy score:  0.915\n",
      "Accuracy score:  0.91\n",
      "Accuracy score:  0.926\n",
      "Accuracy score:  0.931\n",
      "Accuracy score:  0.915\n",
      "Accuracy score:  0.926\n",
      "Accuracy score:  0.92\n",
      "Accuracy score:  0.936\n",
      "Accuracy score:  0.904\n",
      "Accuracy score:  0.904\n",
      "Accuracy score:  0.91\n",
      "Accuracy score:  0.894\n",
      "Accuracy score:  0.926\n",
      "Accuracy score:  0.915\n",
      "Accuracy score:  0.904\n",
      "Accuracy score:  0.936\n",
      "Accuracy score:  0.941\n",
      "Accuracy score:  0.904\n",
      "Accuracy score:  0.915\n",
      "Accuracy score:  0.926\n",
      "Accuracy score:  0.92\n",
      "Accuracy score:  0.926\n",
      "Accuracy score:  0.92\n",
      "Accuracy score:  0.899\n",
      "Accuracy score:  0.894\n",
      "Accuracy score:  0.926\n",
      "Accuracy score:  0.931\n",
      "Accuracy score:  0.92\n",
      "Accuracy score:  0.926\n",
      "Accuracy score:  0.91\n",
      "Accuracy score:  0.926\n",
      "Accuracy score:  0.92\n",
      "Accuracy score:  0.931\n",
      "Accuracy score:  0.91\n",
      "Accuracy score:  0.904\n",
      "Accuracy score:  0.936\n",
      "Accuracy score:  0.883\n",
      "Accuracy score:  0.91\n",
      "Accuracy score:  0.904\n",
      "Accuracy score:  0.931\n",
      "Accuracy score:  0.91\n",
      "Accuracy score:  0.899\n",
      "Accuracy score:  0.952\n",
      "Accuracy score:  0.915\n",
      "Accuracy score:  0.915\n",
      "Accuracy score:  0.926\n",
      "Accuracy score:  0.92\n",
      "Accuracy score:  0.894\n",
      "Accuracy score:  0.915\n",
      "Accuracy score:  0.915\n",
      "Accuracy score:  0.91\n",
      "Accuracy score:  0.931\n",
      "Accuracy score:  0.936\n",
      "Accuracy score:  0.915\n",
      "Accuracy score:  0.91\n",
      "Accuracy score:  0.92\n",
      "Accuracy score:  0.91\n"
     ]
    }
   ],
   "source": [
    "# Evaluate the models individually\n",
    "for model in decision_tree_models:\n",
    "    y_pred = model.predict(X_test)\n",
    "    accuracy = round(accuracy_score(y_pred, y_test), 3)\n",
    "    print(f\"Accuracy score: \", accuracy)"
   ]
  },
  {
   "cell_type": "code",
   "execution_count": 9,
   "metadata": {},
   "outputs": [
    {
     "name": "stdout",
     "output_type": "stream",
     "text": [
      "Accuracy of majority vote:  0.941\n"
     ]
    }
   ],
   "source": [
    "# Create a Voting Classifier\n",
    "from sklearn.ensemble import VotingClassifier\n",
    "voting = VotingClassifier(\n",
    "    estimators=[(f\"model_{i}\", model) for i, model in enumerate(decision_tree_models)]\n",
    ")\n",
    "\n",
    "# Get the accuracy score\n",
    "voting.fit(X_train, y_train)\n",
    "voting_pred = voting.predict(X_test)\n",
    "print(\"Accuracy of majority vote: \", round(accuracy_score(voting_pred, y_test), 3))"
   ]
  },
  {
   "cell_type": "markdown",
   "metadata": {},
   "source": [
    "## Random Forests"
   ]
  },
  {
   "cell_type": "code",
   "execution_count": 10,
   "metadata": {},
   "outputs": [],
   "source": [
    "# Import random forest classifier\n",
    "from sklearn.ensemble import RandomForestClassifier"
   ]
  },
  {
   "cell_type": "code",
   "execution_count": 11,
   "metadata": {},
   "outputs": [
    {
     "data": {
      "text/plain": [
       "RandomForestClassifier(max_leaf_nodes=16, n_estimators=5000, n_jobs=-1)"
      ]
     },
     "execution_count": 11,
     "metadata": {},
     "output_type": "execute_result"
    }
   ],
   "source": [
    "# Training a random forest\n",
    "forest = RandomForestClassifier(n_estimators=5000, max_leaf_nodes=16, n_jobs=-1)\n",
    "forest.fit(X_train, y_train)"
   ]
  },
  {
   "cell_type": "code",
   "execution_count": 12,
   "metadata": {},
   "outputs": [
    {
     "name": "stdout",
     "output_type": "stream",
     "text": [
      "The accuracy of the random forest is:  0.957\n"
     ]
    }
   ],
   "source": [
    "# Predicting with a random forest\n",
    "y_pred_forest = forest.predict(X_test)\n",
    "accuracy_forest = round(accuracy_score(y_pred_forest, y_test), 3)\n",
    "print(\"The accuracy of the random forest is: \", accuracy_forest)"
   ]
  }
 ],
 "metadata": {
  "kernelspec": {
   "display_name": "Python 3 (ipykernel)",
   "language": "python",
   "name": "python3"
  },
  "language_info": {
   "codemirror_mode": {
    "name": "ipython",
    "version": 3
   },
   "file_extension": ".py",
   "mimetype": "text/x-python",
   "name": "python",
   "nbconvert_exporter": "python",
   "pygments_lexer": "ipython3",
   "version": "3.9.12"
  }
 },
 "nbformat": 4,
 "nbformat_minor": 4
}
