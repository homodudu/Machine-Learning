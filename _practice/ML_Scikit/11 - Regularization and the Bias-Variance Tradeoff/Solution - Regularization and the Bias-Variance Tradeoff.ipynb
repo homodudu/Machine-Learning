{
 "cells": [
  {
   "cell_type": "markdown",
   "metadata": {},
   "source": [
    "# Regularization and the Bias-Variance Tradeoff"
   ]
  },
  {
   "cell_type": "markdown",
   "metadata": {},
   "source": [
    "In this lecture, we will discuss ridge and lasso regression, and see how these regularization techniques can help improve your linear regression models."
   ]
  },
  {
   "cell_type": "markdown",
   "metadata": {},
   "source": [
    "<b>Functions and attributes in this lecture: </b>\n",
    "- `sklearn.linear_model` - Submodule for linear models\n",
    " - `Ridge` - Implements Ridge Regression\n",
    " - `Lasso` - Implements Lasso Regression"
   ]
  },
  {
   "cell_type": "code",
   "execution_count": 1,
   "metadata": {},
   "outputs": [],
   "source": [
    "# Non-sklearn packages\n",
    "import numpy as np\n",
    "import pandas as pd\n",
    "\n",
    "# Sklearn packages\n",
    "from sklearn.linear_model import LinearRegression\n",
    "from sklearn.model_selection import cross_validate"
   ]
  },
  {
   "cell_type": "markdown",
   "metadata": {},
   "source": [
    "## Importing the dataset and creating a base linear model"
   ]
  },
  {
   "cell_type": "code",
   "execution_count": 2,
   "metadata": {},
   "outputs": [],
   "source": [
    "# Importing the cleaned tips dataset\n",
    "cleaned_tips = pd.read_csv(\"cleaned_tips.csv\")"
   ]
  },
  {
   "cell_type": "code",
   "execution_count": 3,
   "metadata": {},
   "outputs": [
    {
     "data": {
      "text/html": [
       "<div>\n",
       "<style scoped>\n",
       "    .dataframe tbody tr th:only-of-type {\n",
       "        vertical-align: middle;\n",
       "    }\n",
       "\n",
       "    .dataframe tbody tr th {\n",
       "        vertical-align: top;\n",
       "    }\n",
       "\n",
       "    .dataframe thead th {\n",
       "        text-align: right;\n",
       "    }\n",
       "</style>\n",
       "<table border=\"1\" class=\"dataframe\">\n",
       "  <thead>\n",
       "    <tr style=\"text-align: right;\">\n",
       "      <th></th>\n",
       "      <th>total_bill</th>\n",
       "      <th>tip</th>\n",
       "      <th>size</th>\n",
       "      <th>sex_Female</th>\n",
       "      <th>smoker_No</th>\n",
       "      <th>day_Fri</th>\n",
       "      <th>day_Sat</th>\n",
       "      <th>day_Sun</th>\n",
       "      <th>day_Thur</th>\n",
       "      <th>time_Dinner</th>\n",
       "    </tr>\n",
       "  </thead>\n",
       "  <tbody>\n",
       "    <tr>\n",
       "      <th>0</th>\n",
       "      <td>16.99</td>\n",
       "      <td>1.01</td>\n",
       "      <td>2</td>\n",
       "      <td>1.0</td>\n",
       "      <td>1.0</td>\n",
       "      <td>0.0</td>\n",
       "      <td>0.0</td>\n",
       "      <td>1.0</td>\n",
       "      <td>0.0</td>\n",
       "      <td>1.0</td>\n",
       "    </tr>\n",
       "    <tr>\n",
       "      <th>1</th>\n",
       "      <td>10.34</td>\n",
       "      <td>1.66</td>\n",
       "      <td>3</td>\n",
       "      <td>0.0</td>\n",
       "      <td>1.0</td>\n",
       "      <td>0.0</td>\n",
       "      <td>0.0</td>\n",
       "      <td>1.0</td>\n",
       "      <td>0.0</td>\n",
       "      <td>1.0</td>\n",
       "    </tr>\n",
       "    <tr>\n",
       "      <th>2</th>\n",
       "      <td>21.01</td>\n",
       "      <td>3.50</td>\n",
       "      <td>3</td>\n",
       "      <td>0.0</td>\n",
       "      <td>1.0</td>\n",
       "      <td>0.0</td>\n",
       "      <td>0.0</td>\n",
       "      <td>1.0</td>\n",
       "      <td>0.0</td>\n",
       "      <td>1.0</td>\n",
       "    </tr>\n",
       "    <tr>\n",
       "      <th>3</th>\n",
       "      <td>23.68</td>\n",
       "      <td>3.31</td>\n",
       "      <td>2</td>\n",
       "      <td>0.0</td>\n",
       "      <td>1.0</td>\n",
       "      <td>0.0</td>\n",
       "      <td>0.0</td>\n",
       "      <td>1.0</td>\n",
       "      <td>0.0</td>\n",
       "      <td>1.0</td>\n",
       "    </tr>\n",
       "    <tr>\n",
       "      <th>4</th>\n",
       "      <td>24.59</td>\n",
       "      <td>3.61</td>\n",
       "      <td>4</td>\n",
       "      <td>1.0</td>\n",
       "      <td>1.0</td>\n",
       "      <td>0.0</td>\n",
       "      <td>0.0</td>\n",
       "      <td>1.0</td>\n",
       "      <td>0.0</td>\n",
       "      <td>1.0</td>\n",
       "    </tr>\n",
       "  </tbody>\n",
       "</table>\n",
       "</div>"
      ],
      "text/plain": [
       "   total_bill   tip  size  sex_Female  smoker_No  day_Fri  day_Sat  day_Sun  \\\n",
       "0       16.99  1.01     2         1.0        1.0      0.0      0.0      1.0   \n",
       "1       10.34  1.66     3         0.0        1.0      0.0      0.0      1.0   \n",
       "2       21.01  3.50     3         0.0        1.0      0.0      0.0      1.0   \n",
       "3       23.68  3.31     2         0.0        1.0      0.0      0.0      1.0   \n",
       "4       24.59  3.61     4         1.0        1.0      0.0      0.0      1.0   \n",
       "\n",
       "   day_Thur  time_Dinner  \n",
       "0       0.0          1.0  \n",
       "1       0.0          1.0  \n",
       "2       0.0          1.0  \n",
       "3       0.0          1.0  \n",
       "4       0.0          1.0  "
      ]
     },
     "execution_count": 3,
     "metadata": {},
     "output_type": "execute_result"
    }
   ],
   "source": [
    "# Checking out the dataset\n",
    "cleaned_tips.head()"
   ]
  },
  {
   "cell_type": "code",
   "execution_count": 4,
   "metadata": {},
   "outputs": [],
   "source": [
    "# Splitting into features and targets\n",
    "X = cleaned_tips.drop(\"tip\", axis=1)\n",
    "y = cleaned_tips[\"tip\"]"
   ]
  },
  {
   "cell_type": "code",
   "execution_count": 5,
   "metadata": {},
   "outputs": [
    {
     "name": "stdout",
     "output_type": "stream",
     "text": [
      "Mean Absolute Error:  1.1252797795692773\n"
     ]
    }
   ],
   "source": [
    "# A baseline linear model\n",
    "linear_reg = LinearRegression()\n",
    "linear_result = cross_validate(linear_reg, X, y, cv=5, scoring=\"neg_mean_squared_error\")\n",
    "print(\"Mean Absolute Error: \", -np.mean(linear_result[\"test_score\"]))"
   ]
  },
  {
   "cell_type": "markdown",
   "metadata": {},
   "source": [
    "## Ridge Regression and Lasso Regression"
   ]
  },
  {
   "cell_type": "code",
   "execution_count": 6,
   "metadata": {},
   "outputs": [
    {
     "name": "stdout",
     "output_type": "stream",
     "text": [
      "Mean Absolute Error:  1.085993827471052\n"
     ]
    }
   ],
   "source": [
    "# Ridge Regression\n",
    "from sklearn.linear_model import Ridge\n",
    "\n",
    "ridge_model = Ridge(alpha=30)\n",
    "ridge_result = cross_validate(ridge_model, X, y, cv=5, scoring=\"neg_mean_squared_error\")\n",
    "print(\"Mean Absolute Error: \", -np.mean(ridge_result[\"test_score\"]))"
   ]
  },
  {
   "cell_type": "code",
   "execution_count": 7,
   "metadata": {},
   "outputs": [
    {
     "name": "stdout",
     "output_type": "stream",
     "text": [
      "Mean Absolute Error:  1.0691001605259944\n"
     ]
    }
   ],
   "source": [
    "# Lasso Regression\n",
    "from sklearn.linear_model import Lasso\n",
    "\n",
    "lasso_model = Lasso(alpha=1)\n",
    "lasso_result = cross_validate(lasso_model, X, y, cv=5, scoring=\"neg_mean_squared_error\")\n",
    "print(\"Mean Absolute Error: \", -np.mean(lasso_result[\"test_score\"]))"
   ]
  },
  {
   "cell_type": "markdown",
   "metadata": {},
   "source": [
    "## Finding the best $\\alpha$ for the Lasso Regression"
   ]
  },
  {
   "cell_type": "code",
   "execution_count": 8,
   "metadata": {},
   "outputs": [
    {
     "name": "stdout",
     "output_type": "stream",
     "text": [
      "Mean Absolute Error:  1.1211365981262227\n",
      "Mean Absolute Error:  1.1062899113874012\n",
      "Mean Absolute Error:  1.0917016243989324\n",
      "Mean Absolute Error:  1.052339323765285\n",
      "Mean Absolute Error:  1.0605979804997434\n",
      "Mean Absolute Error:  1.0610918747082556\n",
      "Mean Absolute Error:  1.0620375541693847\n",
      "Mean Absolute Error:  1.0654696766627012\n",
      "Mean Absolute Error:  1.0691001605259944\n",
      "Mean Absolute Error:  1.103361406255443\n",
      "Mean Absolute Error:  1.367233407573625\n",
      "Mean Absolute Error:  1.9239219035570045\n",
      "Mean Absolute Error:  1.9239219035570045\n"
     ]
    }
   ],
   "source": [
    "# Searching for a good alpha value\n",
    "alphas = [0.001, 0.005, 0.01, 0.05, 0.1, 0.3, 0.5, 0.8, 1, 2, 5, 10, 50]\n",
    "scores = []\n",
    "\n",
    "for alpha in alphas:\n",
    "    lasso_model = Lasso(alpha=alpha)\n",
    "    lasso_result = cross_validate(lasso_model, X, y, cv=5, scoring=\"neg_mean_squared_error\")\n",
    "    score = -np.mean(lasso_result[\"test_score\"])\n",
    "    print(\"Mean Absolute Error: \", score)\n",
    "    scores.append(score)"
   ]
  },
  {
   "cell_type": "code",
   "execution_count": 9,
   "metadata": {},
   "outputs": [],
   "source": [
    "# Finding the best of the alpha values\n",
    "best_alpha = alphas[np.argmin(scores)]"
   ]
  },
  {
   "cell_type": "code",
   "execution_count": 10,
   "metadata": {},
   "outputs": [],
   "source": [
    "# Getting the best model\n",
    "best_model = Lasso(alpha=best_alpha)"
   ]
  }
 ],
 "metadata": {
  "kernelspec": {
   "display_name": "Python 3 (ipykernel)",
   "language": "python",
   "name": "python3"
  },
  "language_info": {
   "codemirror_mode": {
    "name": "ipython",
    "version": 3
   },
   "file_extension": ".py",
   "mimetype": "text/x-python",
   "name": "python",
   "nbconvert_exporter": "python",
   "pygments_lexer": "ipython3",
   "version": "3.9.12"
  },
  "vscode": {
   "interpreter": {
    "hash": "b5cd0bb0c1f6223a80e255515fb8153ab4dbabac0b29c42565d327ce0a96ceb1"
   }
  }
 },
 "nbformat": 4,
 "nbformat_minor": 4
}
