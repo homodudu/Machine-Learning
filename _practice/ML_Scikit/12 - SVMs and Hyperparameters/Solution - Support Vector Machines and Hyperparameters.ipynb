{
 "cells": [
  {
   "cell_type": "markdown",
   "metadata": {},
   "source": [
    "# Support Vector Machines and Hyperparameters"
   ]
  },
  {
   "cell_type": "markdown",
   "metadata": {},
   "source": [
    "In this module we are going to learn about the support vector machine model. We are also going to look at the different hyperparameters and what they do. Finally, we will also learn how to do grid search to find the best hyperparameters."
   ]
  },
  {
   "cell_type": "markdown",
   "metadata": {},
   "source": [
    "<b>Functions and attributes in this lecture: </b>\n",
    "- `sklearn.model_selection` - Submodule for selecting good models\n",
    " - `GridSearchCV` - Use a grid search to find the best hyperparameters\n",
    "- `sklearn.svm` - Submodule for support vector machines\n",
    " - `SVC` - Basic implementation of the support vector machine for classification"
   ]
  },
  {
   "cell_type": "code",
   "execution_count": 1,
   "metadata": {},
   "outputs": [],
   "source": [
    "# Non-sklearn packages\n",
    "import numpy as np\n",
    "import pandas as pd\n",
    "\n",
    "# Sklearn functions\n",
    "from sklearn.model_selection import train_test_split\n",
    "from sklearn.metrics import accuracy_score"
   ]
  },
  {
   "cell_type": "markdown",
   "metadata": {},
   "source": [
    "## SVM Clasifier Implementation"
   ]
  },
  {
   "cell_type": "code",
   "execution_count": 2,
   "metadata": {},
   "outputs": [
    {
     "name": "stdout",
     "output_type": "stream",
     "text": [
      ".. _wine_dataset:\n",
      "\n",
      "Wine recognition dataset\n",
      "------------------------\n",
      "\n",
      "**Data Set Characteristics:**\n",
      "\n",
      "    :Number of Instances: 178 (50 in each of three classes)\n",
      "    :Number of Attributes: 13 numeric, predictive attributes and the class\n",
      "    :Attribute Information:\n",
      " \t\t- Alcohol\n",
      " \t\t- Malic acid\n",
      " \t\t- Ash\n",
      "\t\t- Alcalinity of ash  \n",
      " \t\t- Magnesium\n",
      "\t\t- Total phenols\n",
      " \t\t- Flavanoids\n",
      " \t\t- Nonflavanoid phenols\n",
      " \t\t- Proanthocyanins\n",
      "\t\t- Color intensity\n",
      " \t\t- Hue\n",
      " \t\t- OD280/OD315 of diluted wines\n",
      " \t\t- Proline\n",
      "\n",
      "    - class:\n",
      "            - class_0\n",
      "            - class_1\n",
      "            - class_2\n",
      "\t\t\n",
      "    :Summary Statistics:\n",
      "    \n",
      "    ============================= ==== ===== ======= =====\n",
      "                                   Min   Max   Mean     SD\n",
      "    ============================= ==== ===== ======= =====\n",
      "    Alcohol:                      11.0  14.8    13.0   0.8\n",
      "    Malic Acid:                   0.74  5.80    2.34  1.12\n",
      "    Ash:                          1.36  3.23    2.36  0.27\n",
      "    Alcalinity of Ash:            10.6  30.0    19.5   3.3\n",
      "    Magnesium:                    70.0 162.0    99.7  14.3\n",
      "    Total Phenols:                0.98  3.88    2.29  0.63\n",
      "    Flavanoids:                   0.34  5.08    2.03  1.00\n",
      "    Nonflavanoid Phenols:         0.13  0.66    0.36  0.12\n",
      "    Proanthocyanins:              0.41  3.58    1.59  0.57\n",
      "    Colour Intensity:              1.3  13.0     5.1   2.3\n",
      "    Hue:                          0.48  1.71    0.96  0.23\n",
      "    OD280/OD315 of diluted wines: 1.27  4.00    2.61  0.71\n",
      "    Proline:                       278  1680     746   315\n",
      "    ============================= ==== ===== ======= =====\n",
      "\n",
      "    :Missing Attribute Values: None\n",
      "    :Class Distribution: class_0 (59), class_1 (71), class_2 (48)\n",
      "    :Creator: R.A. Fisher\n",
      "    :Donor: Michael Marshall (MARSHALL%PLU@io.arc.nasa.gov)\n",
      "    :Date: July, 1988\n",
      "\n",
      "This is a copy of UCI ML Wine recognition datasets.\n",
      "https://archive.ics.uci.edu/ml/machine-learning-databases/wine/wine.data\n",
      "\n",
      "The data is the results of a chemical analysis of wines grown in the same\n",
      "region in Italy by three different cultivators. There are thirteen different\n",
      "measurements taken for different constituents found in the three types of\n",
      "wine.\n",
      "\n",
      "Original Owners: \n",
      "\n",
      "Forina, M. et al, PARVUS - \n",
      "An Extendible Package for Data Exploration, Classification and Correlation. \n",
      "Institute of Pharmaceutical and Food Analysis and Technologies,\n",
      "Via Brigata Salerno, 16147 Genoa, Italy.\n",
      "\n",
      "Citation:\n",
      "\n",
      "Lichman, M. (2013). UCI Machine Learning Repository\n",
      "[https://archive.ics.uci.edu/ml]. Irvine, CA: University of California,\n",
      "School of Information and Computer Science. \n",
      "\n",
      ".. topic:: References\n",
      "\n",
      "  (1) S. Aeberhard, D. Coomans and O. de Vel, \n",
      "  Comparison of Classifiers in High Dimensional Settings, \n",
      "  Tech. Rep. no. 92-02, (1992), Dept. of Computer Science and Dept. of  \n",
      "  Mathematics and Statistics, James Cook University of North Queensland. \n",
      "  (Also submitted to Technometrics). \n",
      "\n",
      "  The data was used with many others for comparing various \n",
      "  classifiers. The classes are separable, though only RDA \n",
      "  has achieved 100% correct classification. \n",
      "  (RDA : 100%, QDA 99.4%, LDA 98.9%, 1NN 96.1% (z-transformed data)) \n",
      "  (All results using the leave-one-out technique) \n",
      "\n",
      "  (2) S. Aeberhard, D. Coomans and O. de Vel, \n",
      "  \"THE CLASSIFICATION PERFORMANCE OF RDA\" \n",
      "  Tech. Rep. no. 92-01, (1992), Dept. of Computer Science and Dept. of \n",
      "  Mathematics and Statistics, James Cook University of North Queensland. \n",
      "  (Also submitted to Journal of Chemometrics).\n",
      "\n"
     ]
    }
   ],
   "source": [
    "# Import the wine dataset\n",
    "from sklearn import datasets\n",
    "wine_data = datasets.load_wine()\n",
    "\n",
    "# Print the description of the dataset\n",
    "print(wine_data.DESCR)"
   ]
  },
  {
   "cell_type": "code",
   "execution_count": 3,
   "metadata": {},
   "outputs": [],
   "source": [
    "# Separating features and the target\n",
    "X = wine_data.data\n",
    "y = wine_data.target"
   ]
  },
  {
   "cell_type": "code",
   "execution_count": 4,
   "metadata": {},
   "outputs": [],
   "source": [
    "# Splitting the data into training and testing sets\n",
    "X_train, X_test, y_train, y_test = train_test_split(X, y)"
   ]
  },
  {
   "cell_type": "code",
   "execution_count": 5,
   "metadata": {
    "scrolled": true
   },
   "outputs": [],
   "source": [
    "# Import the SVM model for classification\n",
    "from sklearn.svm import SVC"
   ]
  },
  {
   "cell_type": "code",
   "execution_count": 6,
   "metadata": {},
   "outputs": [],
   "source": [
    "# Crate a SVM model\n",
    "svm_model = SVC()"
   ]
  },
  {
   "cell_type": "code",
   "execution_count": 7,
   "metadata": {},
   "outputs": [
    {
     "data": {
      "text/plain": [
       "SVC()"
      ]
     },
     "execution_count": 7,
     "metadata": {},
     "output_type": "execute_result"
    }
   ],
   "source": [
    "# Train the SVM model\n",
    "svm_model.fit(X_train, y_train)"
   ]
  },
  {
   "cell_type": "code",
   "execution_count": 8,
   "metadata": {},
   "outputs": [
    {
     "data": {
      "text/plain": [
       "0.6222222222222222"
      ]
     },
     "execution_count": 8,
     "metadata": {},
     "output_type": "execute_result"
    }
   ],
   "source": [
    "# Taking the accuracy score of the model\n",
    "y_pred = svm_model.predict(X_test)\n",
    "accuracy_score(y_pred, y_test)"
   ]
  },
  {
   "cell_type": "markdown",
   "metadata": {},
   "source": [
    "## Grid Search"
   ]
  },
  {
   "cell_type": "code",
   "execution_count": 9,
   "metadata": {},
   "outputs": [],
   "source": [
    "# Import the grid search function\n",
    "from sklearn.model_selection import GridSearchCV"
   ]
  },
  {
   "cell_type": "code",
   "execution_count": 10,
   "metadata": {},
   "outputs": [],
   "source": [
    "# Create a dictionary with the hyperparameters\n",
    "hyperparameters = {'C': [1, 10, 30], 'degree': [1, 2, 3]}"
   ]
  },
  {
   "cell_type": "code",
   "execution_count": 11,
   "metadata": {},
   "outputs": [],
   "source": [
    "# Set up the grid search\n",
    "grid_search = GridSearchCV(\n",
    "    cv=5, \n",
    "    estimator=SVC(kernel='poly'), \n",
    "    param_grid=hyperparameters, \n",
    "    verbose=2\n",
    ")"
   ]
  },
  {
   "cell_type": "code",
   "execution_count": 12,
   "metadata": {},
   "outputs": [
    {
     "name": "stdout",
     "output_type": "stream",
     "text": [
      "Fitting 5 folds for each of 9 candidates, totalling 45 fits\n",
      "[CV] END ......................................C=1, degree=1; total time=   0.0s\n",
      "[CV] END ......................................C=1, degree=1; total time=   0.0s\n",
      "[CV] END ......................................C=1, degree=1; total time=   0.0s\n",
      "[CV] END ......................................C=1, degree=1; total time=   0.0s\n",
      "[CV] END ......................................C=1, degree=1; total time=   0.0s\n",
      "[CV] END ......................................C=1, degree=2; total time=   0.0s\n",
      "[CV] END ......................................C=1, degree=2; total time=   0.0s\n",
      "[CV] END ......................................C=1, degree=2; total time=   0.0s\n",
      "[CV] END ......................................C=1, degree=2; total time=   0.0s\n",
      "[CV] END ......................................C=1, degree=2; total time=   0.0s\n",
      "[CV] END ......................................C=1, degree=3; total time=   0.0s\n",
      "[CV] END ......................................C=1, degree=3; total time=   0.0s\n",
      "[CV] END ......................................C=1, degree=3; total time=   0.0s\n",
      "[CV] END ......................................C=1, degree=3; total time=   0.0s\n",
      "[CV] END ......................................C=1, degree=3; total time=   0.0s\n",
      "[CV] END .....................................C=10, degree=1; total time=   0.0s\n",
      "[CV] END .....................................C=10, degree=1; total time=   0.0s\n",
      "[CV] END .....................................C=10, degree=1; total time=   0.0s\n",
      "[CV] END .....................................C=10, degree=1; total time=   0.0s\n",
      "[CV] END .....................................C=10, degree=1; total time=   0.0s\n",
      "[CV] END .....................................C=10, degree=2; total time=   0.0s\n",
      "[CV] END .....................................C=10, degree=2; total time=   0.0s\n",
      "[CV] END .....................................C=10, degree=2; total time=   0.0s\n",
      "[CV] END .....................................C=10, degree=2; total time=   0.0s\n",
      "[CV] END .....................................C=10, degree=2; total time=   0.0s\n",
      "[CV] END .....................................C=10, degree=3; total time=   0.0s\n",
      "[CV] END .....................................C=10, degree=3; total time=   0.0s\n",
      "[CV] END .....................................C=10, degree=3; total time=   0.0s\n",
      "[CV] END .....................................C=10, degree=3; total time=   0.0s\n",
      "[CV] END .....................................C=10, degree=3; total time=   0.0s\n",
      "[CV] END .....................................C=30, degree=1; total time=   0.0s\n",
      "[CV] END .....................................C=30, degree=1; total time=   0.0s\n",
      "[CV] END .....................................C=30, degree=1; total time=   0.0s\n",
      "[CV] END .....................................C=30, degree=1; total time=   0.0s\n",
      "[CV] END .....................................C=30, degree=1; total time=   0.0s\n",
      "[CV] END .....................................C=30, degree=2; total time=   0.0s\n",
      "[CV] END .....................................C=30, degree=2; total time=   0.0s\n",
      "[CV] END .....................................C=30, degree=2; total time=   0.0s\n",
      "[CV] END .....................................C=30, degree=2; total time=   0.0s\n",
      "[CV] END .....................................C=30, degree=2; total time=   0.0s\n",
      "[CV] END .....................................C=30, degree=3; total time=   0.0s\n",
      "[CV] END .....................................C=30, degree=3; total time=   0.0s\n",
      "[CV] END .....................................C=30, degree=3; total time=   0.0s\n",
      "[CV] END .....................................C=30, degree=3; total time=   0.0s\n",
      "[CV] END .....................................C=30, degree=3; total time=   0.0s\n"
     ]
    },
    {
     "data": {
      "text/plain": [
       "GridSearchCV(cv=5, estimator=SVC(kernel='poly'),\n",
       "             param_grid={'C': [1, 10, 30], 'degree': [1, 2, 3]}, verbose=2)"
      ]
     },
     "execution_count": 12,
     "metadata": {},
     "output_type": "execute_result"
    }
   ],
   "source": [
    "# Train using grid search\n",
    "grid_search.fit(X_train, y_train)"
   ]
  },
  {
   "cell_type": "code",
   "execution_count": 13,
   "metadata": {},
   "outputs": [
    {
     "data": {
      "text/html": [
       "<div>\n",
       "<style scoped>\n",
       "    .dataframe tbody tr th:only-of-type {\n",
       "        vertical-align: middle;\n",
       "    }\n",
       "\n",
       "    .dataframe tbody tr th {\n",
       "        vertical-align: top;\n",
       "    }\n",
       "\n",
       "    .dataframe thead th {\n",
       "        text-align: right;\n",
       "    }\n",
       "</style>\n",
       "<table border=\"1\" class=\"dataframe\">\n",
       "  <thead>\n",
       "    <tr style=\"text-align: right;\">\n",
       "      <th></th>\n",
       "      <th>mean_fit_time</th>\n",
       "      <th>std_fit_time</th>\n",
       "      <th>mean_score_time</th>\n",
       "      <th>std_score_time</th>\n",
       "      <th>param_C</th>\n",
       "      <th>param_degree</th>\n",
       "      <th>params</th>\n",
       "      <th>split0_test_score</th>\n",
       "      <th>split1_test_score</th>\n",
       "      <th>split2_test_score</th>\n",
       "      <th>split3_test_score</th>\n",
       "      <th>split4_test_score</th>\n",
       "      <th>mean_test_score</th>\n",
       "      <th>std_test_score</th>\n",
       "      <th>rank_test_score</th>\n",
       "    </tr>\n",
       "  </thead>\n",
       "  <tbody>\n",
       "    <tr>\n",
       "      <th>0</th>\n",
       "      <td>0.000598</td>\n",
       "      <td>0.000489</td>\n",
       "      <td>0.000399</td>\n",
       "      <td>0.000489</td>\n",
       "      <td>1</td>\n",
       "      <td>1</td>\n",
       "      <td>{'C': 1, 'degree': 1}</td>\n",
       "      <td>0.703704</td>\n",
       "      <td>0.666667</td>\n",
       "      <td>0.703704</td>\n",
       "      <td>0.730769</td>\n",
       "      <td>0.692308</td>\n",
       "      <td>0.699430</td>\n",
       "      <td>0.020702</td>\n",
       "      <td>7</td>\n",
       "    </tr>\n",
       "    <tr>\n",
       "      <th>1</th>\n",
       "      <td>0.000598</td>\n",
       "      <td>0.000488</td>\n",
       "      <td>0.000399</td>\n",
       "      <td>0.000489</td>\n",
       "      <td>1</td>\n",
       "      <td>2</td>\n",
       "      <td>{'C': 1, 'degree': 2}</td>\n",
       "      <td>0.666667</td>\n",
       "      <td>0.666667</td>\n",
       "      <td>0.592593</td>\n",
       "      <td>0.846154</td>\n",
       "      <td>0.692308</td>\n",
       "      <td>0.692877</td>\n",
       "      <td>0.083576</td>\n",
       "      <td>8</td>\n",
       "    </tr>\n",
       "    <tr>\n",
       "      <th>2</th>\n",
       "      <td>0.000798</td>\n",
       "      <td>0.000399</td>\n",
       "      <td>0.000219</td>\n",
       "      <td>0.000438</td>\n",
       "      <td>1</td>\n",
       "      <td>3</td>\n",
       "      <td>{'C': 1, 'degree': 3}</td>\n",
       "      <td>0.666667</td>\n",
       "      <td>0.666667</td>\n",
       "      <td>0.629630</td>\n",
       "      <td>0.807692</td>\n",
       "      <td>0.692308</td>\n",
       "      <td>0.692593</td>\n",
       "      <td>0.060921</td>\n",
       "      <td>9</td>\n",
       "    </tr>\n",
       "    <tr>\n",
       "      <th>3</th>\n",
       "      <td>0.000601</td>\n",
       "      <td>0.000491</td>\n",
       "      <td>0.000199</td>\n",
       "      <td>0.000399</td>\n",
       "      <td>10</td>\n",
       "      <td>1</td>\n",
       "      <td>{'C': 10, 'degree': 1}</td>\n",
       "      <td>0.740741</td>\n",
       "      <td>0.740741</td>\n",
       "      <td>0.703704</td>\n",
       "      <td>0.769231</td>\n",
       "      <td>0.807692</td>\n",
       "      <td>0.752422</td>\n",
       "      <td>0.034594</td>\n",
       "      <td>2</td>\n",
       "    </tr>\n",
       "    <tr>\n",
       "      <th>4</th>\n",
       "      <td>0.000598</td>\n",
       "      <td>0.000489</td>\n",
       "      <td>0.000399</td>\n",
       "      <td>0.000489</td>\n",
       "      <td>10</td>\n",
       "      <td>2</td>\n",
       "      <td>{'C': 10, 'degree': 2}</td>\n",
       "      <td>0.740741</td>\n",
       "      <td>0.703704</td>\n",
       "      <td>0.666667</td>\n",
       "      <td>0.769231</td>\n",
       "      <td>0.769231</td>\n",
       "      <td>0.729915</td>\n",
       "      <td>0.039739</td>\n",
       "      <td>6</td>\n",
       "    </tr>\n",
       "    <tr>\n",
       "      <th>5</th>\n",
       "      <td>0.000598</td>\n",
       "      <td>0.000489</td>\n",
       "      <td>0.000460</td>\n",
       "      <td>0.000571</td>\n",
       "      <td>10</td>\n",
       "      <td>3</td>\n",
       "      <td>{'C': 10, 'degree': 3}</td>\n",
       "      <td>0.703704</td>\n",
       "      <td>0.666667</td>\n",
       "      <td>0.666667</td>\n",
       "      <td>0.846154</td>\n",
       "      <td>0.769231</td>\n",
       "      <td>0.730484</td>\n",
       "      <td>0.068911</td>\n",
       "      <td>5</td>\n",
       "    </tr>\n",
       "    <tr>\n",
       "      <th>6</th>\n",
       "      <td>0.000700</td>\n",
       "      <td>0.000601</td>\n",
       "      <td>0.000200</td>\n",
       "      <td>0.000399</td>\n",
       "      <td>30</td>\n",
       "      <td>1</td>\n",
       "      <td>{'C': 30, 'degree': 1}</td>\n",
       "      <td>0.740741</td>\n",
       "      <td>0.777778</td>\n",
       "      <td>0.740741</td>\n",
       "      <td>0.769231</td>\n",
       "      <td>0.807692</td>\n",
       "      <td>0.767236</td>\n",
       "      <td>0.025123</td>\n",
       "      <td>1</td>\n",
       "    </tr>\n",
       "    <tr>\n",
       "      <th>7</th>\n",
       "      <td>0.000799</td>\n",
       "      <td>0.000399</td>\n",
       "      <td>0.000301</td>\n",
       "      <td>0.000602</td>\n",
       "      <td>30</td>\n",
       "      <td>2</td>\n",
       "      <td>{'C': 30, 'degree': 2}</td>\n",
       "      <td>0.703704</td>\n",
       "      <td>0.777778</td>\n",
       "      <td>0.666667</td>\n",
       "      <td>0.769231</td>\n",
       "      <td>0.807692</td>\n",
       "      <td>0.745014</td>\n",
       "      <td>0.051833</td>\n",
       "      <td>3</td>\n",
       "    </tr>\n",
       "    <tr>\n",
       "      <th>8</th>\n",
       "      <td>0.000802</td>\n",
       "      <td>0.000401</td>\n",
       "      <td>0.000399</td>\n",
       "      <td>0.000489</td>\n",
       "      <td>30</td>\n",
       "      <td>3</td>\n",
       "      <td>{'C': 30, 'degree': 3}</td>\n",
       "      <td>0.703704</td>\n",
       "      <td>0.666667</td>\n",
       "      <td>0.629630</td>\n",
       "      <td>0.846154</td>\n",
       "      <td>0.807692</td>\n",
       "      <td>0.730769</td>\n",
       "      <td>0.082827</td>\n",
       "      <td>4</td>\n",
       "    </tr>\n",
       "  </tbody>\n",
       "</table>\n",
       "</div>"
      ],
      "text/plain": [
       "   mean_fit_time  std_fit_time  mean_score_time  std_score_time param_C  \\\n",
       "0       0.000598      0.000489         0.000399        0.000489       1   \n",
       "1       0.000598      0.000488         0.000399        0.000489       1   \n",
       "2       0.000798      0.000399         0.000219        0.000438       1   \n",
       "3       0.000601      0.000491         0.000199        0.000399      10   \n",
       "4       0.000598      0.000489         0.000399        0.000489      10   \n",
       "5       0.000598      0.000489         0.000460        0.000571      10   \n",
       "6       0.000700      0.000601         0.000200        0.000399      30   \n",
       "7       0.000799      0.000399         0.000301        0.000602      30   \n",
       "8       0.000802      0.000401         0.000399        0.000489      30   \n",
       "\n",
       "  param_degree                  params  split0_test_score  split1_test_score  \\\n",
       "0            1   {'C': 1, 'degree': 1}           0.703704           0.666667   \n",
       "1            2   {'C': 1, 'degree': 2}           0.666667           0.666667   \n",
       "2            3   {'C': 1, 'degree': 3}           0.666667           0.666667   \n",
       "3            1  {'C': 10, 'degree': 1}           0.740741           0.740741   \n",
       "4            2  {'C': 10, 'degree': 2}           0.740741           0.703704   \n",
       "5            3  {'C': 10, 'degree': 3}           0.703704           0.666667   \n",
       "6            1  {'C': 30, 'degree': 1}           0.740741           0.777778   \n",
       "7            2  {'C': 30, 'degree': 2}           0.703704           0.777778   \n",
       "8            3  {'C': 30, 'degree': 3}           0.703704           0.666667   \n",
       "\n",
       "   split2_test_score  split3_test_score  split4_test_score  mean_test_score  \\\n",
       "0           0.703704           0.730769           0.692308         0.699430   \n",
       "1           0.592593           0.846154           0.692308         0.692877   \n",
       "2           0.629630           0.807692           0.692308         0.692593   \n",
       "3           0.703704           0.769231           0.807692         0.752422   \n",
       "4           0.666667           0.769231           0.769231         0.729915   \n",
       "5           0.666667           0.846154           0.769231         0.730484   \n",
       "6           0.740741           0.769231           0.807692         0.767236   \n",
       "7           0.666667           0.769231           0.807692         0.745014   \n",
       "8           0.629630           0.846154           0.807692         0.730769   \n",
       "\n",
       "   std_test_score  rank_test_score  \n",
       "0        0.020702                7  \n",
       "1        0.083576                8  \n",
       "2        0.060921                9  \n",
       "3        0.034594                2  \n",
       "4        0.039739                6  \n",
       "5        0.068911                5  \n",
       "6        0.025123                1  \n",
       "7        0.051833                3  \n",
       "8        0.082827                4  "
      ]
     },
     "execution_count": 13,
     "metadata": {},
     "output_type": "execute_result"
    }
   ],
   "source": [
    "# Show all the results of grid search and cross-validation\n",
    "pd.DataFrame(grid_search.cv_results_)"
   ]
  },
  {
   "cell_type": "code",
   "execution_count": 14,
   "metadata": {},
   "outputs": [],
   "source": [
    "# Get the best model\n",
    "best_params = grid_search.best_estimator_"
   ]
  },
  {
   "cell_type": "code",
   "execution_count": 15,
   "metadata": {},
   "outputs": [],
   "source": [
    "# Predict using the best model\n",
    "y_pred = best_params.predict(X_test)"
   ]
  },
  {
   "cell_type": "code",
   "execution_count": 16,
   "metadata": {},
   "outputs": [
    {
     "data": {
      "text/plain": [
       "0.6222222222222222"
      ]
     },
     "execution_count": 16,
     "metadata": {},
     "output_type": "execute_result"
    }
   ],
   "source": [
    "# Find the accuracy score\n",
    "accuracy_score(y_pred, y_test)"
   ]
  }
 ],
 "metadata": {
  "kernelspec": {
   "display_name": "Python 3 (ipykernel)",
   "language": "python",
   "name": "python3"
  },
  "language_info": {
   "codemirror_mode": {
    "name": "ipython",
    "version": 3
   },
   "file_extension": ".py",
   "mimetype": "text/x-python",
   "name": "python",
   "nbconvert_exporter": "python",
   "pygments_lexer": "ipython3",
   "version": "3.9.12"
  }
 },
 "nbformat": 4,
 "nbformat_minor": 4
}
