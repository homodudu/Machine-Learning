{
 "cells": [
  {
   "cell_type": "markdown",
   "metadata": {},
   "source": [
    "# KNN and Model Persistence"
   ]
  },
  {
   "cell_type": "markdown",
   "metadata": {},
   "source": [
    "In this module we are going to learn about the k-nearest neighbor (KNN) model. This model is known as a clustering model, and can be used for both classification and regression. We will learn about model persistence to save our model for later use."
   ]
  },
  {
   "cell_type": "markdown",
   "metadata": {},
   "source": [
    "<b>Functions and attributes in this lecture: </b>\n",
    "- `sklearn.neighbors` - Contains KNN algorithms.\n",
    " - `KNeighborsClassifier` - Classifier KNN model.\n",
    "- `joblib` - Library for saving NumPy objects, like models.\n",
    "  - `dump` - Saving the model for later use.\n",
    "  - `load` - Loading a saved object."
   ]
  },
  {
   "cell_type": "code",
   "execution_count": 1,
   "metadata": {},
   "outputs": [
    {
     "name": "stdout",
     "output_type": "stream",
     "text": [
      ".. _covtype_dataset:\n",
      "\n",
      "Forest covertypes\n",
      "-----------------\n",
      "\n",
      "The samples in this dataset correspond to 30×30m patches of forest in the US,\n",
      "collected for the task of predicting each patch's cover type,\n",
      "i.e. the dominant species of tree.\n",
      "There are seven covertypes, making this a multiclass classification problem.\n",
      "Each sample has 54 features, described on the\n",
      "`dataset's homepage <https://archive.ics.uci.edu/ml/datasets/Covertype>`__.\n",
      "Some of the features are boolean indicators,\n",
      "while others are discrete or continuous measurements.\n",
      "\n",
      "**Data Set Characteristics:**\n",
      "\n",
      "    =================   ============\n",
      "    Classes                        7\n",
      "    Samples total             581012\n",
      "    Dimensionality                54\n",
      "    Features                     int\n",
      "    =================   ============\n",
      "\n",
      ":func:`sklearn.datasets.fetch_covtype` will load the covertype dataset;\n",
      "it returns a dictionary-like 'Bunch' object\n",
      "with the feature matrix in the ``data`` member\n",
      "and the target values in ``target``. If optional argument 'as_frame' is\n",
      "set to 'True', it will return ``data`` and ``target`` as pandas\n",
      "data frame, and there will be an additional member ``frame`` as well.\n",
      "The dataset will be downloaded from the web if necessary.\n",
      "\n"
     ]
    }
   ],
   "source": [
    "# Non-sklearn packages\n",
    "import numpy as np\n",
    "import pandas as pd\n",
    "\n",
    "# Sklearn packages\n",
    "from sklearn.datasets import fetch_covtype\n",
    "from sklearn.model_selection import GridSearchCV\n",
    "\n",
    "# Importing the dataset\n",
    "X_orig, y_orig = fetch_covtype(return_X_y=True, as_frame=True)\n",
    "\n",
    "# Restricting the dataset to first 10000 rows\n",
    "X, y = X_orig.iloc[:10000], y_orig.iloc[:10000]\n",
    "\n",
    "# Printing the description for the dataset\n",
    "print(fetch_covtype()[\"DESCR\"])"
   ]
  },
  {
   "cell_type": "markdown",
   "metadata": {},
   "source": [
    "## Implementing KNN"
   ]
  },
  {
   "cell_type": "code",
   "execution_count": 2,
   "metadata": {},
   "outputs": [],
   "source": [
    "# Importing the KNN classifier\n",
    "from sklearn.neighbors import KNeighborsClassifier"
   ]
  },
  {
   "cell_type": "code",
   "execution_count": 3,
   "metadata": {},
   "outputs": [],
   "source": [
    "# Creating a KNN classifier\n",
    "KNN = KNeighborsClassifier(n_neighbors=5)"
   ]
  },
  {
   "cell_type": "code",
   "execution_count": 4,
   "metadata": {},
   "outputs": [
    {
     "data": {
      "text/plain": [
       "KNeighborsClassifier()"
      ]
     },
     "execution_count": 4,
     "metadata": {},
     "output_type": "execute_result"
    }
   ],
   "source": [
    "# Training the KNN models\n",
    "KNN.fit(X, y)"
   ]
  },
  {
   "cell_type": "code",
   "execution_count": 5,
   "metadata": {},
   "outputs": [],
   "source": [
    "# Setting the parameters\n",
    "neighbors = {'n_neighbors': [1, 3, 7, 10]}"
   ]
  },
  {
   "cell_type": "code",
   "execution_count": 6,
   "metadata": {},
   "outputs": [],
   "source": [
    "# Doing a grid search\n",
    "grid_neighbor = GridSearchCV(estimator=KNeighborsClassifier(), param_grid=neighbors, cv=5, verbose=2)"
   ]
  },
  {
   "cell_type": "code",
   "execution_count": 7,
   "metadata": {},
   "outputs": [
    {
     "name": "stdout",
     "output_type": "stream",
     "text": [
      "Fitting 5 folds for each of 4 candidates, totalling 20 fits\n",
      "[CV] END ......................................n_neighbors=1; total time=   0.4s\n",
      "[CV] END ......................................n_neighbors=1; total time=   0.1s\n",
      "[CV] END ......................................n_neighbors=1; total time=   0.1s\n",
      "[CV] END ......................................n_neighbors=1; total time=   0.1s\n",
      "[CV] END ......................................n_neighbors=1; total time=   0.1s\n",
      "[CV] END ......................................n_neighbors=3; total time=   0.1s\n",
      "[CV] END ......................................n_neighbors=3; total time=   0.2s\n",
      "[CV] END ......................................n_neighbors=3; total time=   0.2s\n",
      "[CV] END ......................................n_neighbors=3; total time=   0.2s\n",
      "[CV] END ......................................n_neighbors=3; total time=   0.2s\n",
      "[CV] END ......................................n_neighbors=7; total time=   0.2s\n",
      "[CV] END ......................................n_neighbors=7; total time=   0.2s\n",
      "[CV] END ......................................n_neighbors=7; total time=   0.2s\n",
      "[CV] END ......................................n_neighbors=7; total time=   0.2s\n",
      "[CV] END ......................................n_neighbors=7; total time=   0.2s\n",
      "[CV] END .....................................n_neighbors=10; total time=   0.2s\n",
      "[CV] END .....................................n_neighbors=10; total time=   0.2s\n",
      "[CV] END .....................................n_neighbors=10; total time=   0.2s\n",
      "[CV] END .....................................n_neighbors=10; total time=   0.2s\n",
      "[CV] END .....................................n_neighbors=10; total time=   0.2s\n"
     ]
    },
    {
     "data": {
      "text/plain": [
       "GridSearchCV(cv=5, estimator=KNeighborsClassifier(),\n",
       "             param_grid={'n_neighbors': [1, 3, 7, 10]}, verbose=2)"
      ]
     },
     "execution_count": 7,
     "metadata": {},
     "output_type": "execute_result"
    }
   ],
   "source": [
    "# Fitting the model\n",
    "grid_neighbor.fit(X, y)"
   ]
  },
  {
   "cell_type": "code",
   "execution_count": 8,
   "metadata": {},
   "outputs": [
    {
     "data": {
      "text/html": [
       "<div>\n",
       "<style scoped>\n",
       "    .dataframe tbody tr th:only-of-type {\n",
       "        vertical-align: middle;\n",
       "    }\n",
       "\n",
       "    .dataframe tbody tr th {\n",
       "        vertical-align: top;\n",
       "    }\n",
       "\n",
       "    .dataframe thead th {\n",
       "        text-align: right;\n",
       "    }\n",
       "</style>\n",
       "<table border=\"1\" class=\"dataframe\">\n",
       "  <thead>\n",
       "    <tr style=\"text-align: right;\">\n",
       "      <th></th>\n",
       "      <th>mean_fit_time</th>\n",
       "      <th>std_fit_time</th>\n",
       "      <th>mean_score_time</th>\n",
       "      <th>std_score_time</th>\n",
       "      <th>param_n_neighbors</th>\n",
       "      <th>params</th>\n",
       "      <th>split0_test_score</th>\n",
       "      <th>split1_test_score</th>\n",
       "      <th>split2_test_score</th>\n",
       "      <th>split3_test_score</th>\n",
       "      <th>split4_test_score</th>\n",
       "      <th>mean_test_score</th>\n",
       "      <th>std_test_score</th>\n",
       "      <th>rank_test_score</th>\n",
       "    </tr>\n",
       "  </thead>\n",
       "  <tbody>\n",
       "    <tr>\n",
       "      <th>0</th>\n",
       "      <td>0.006947</td>\n",
       "      <td>0.002834</td>\n",
       "      <td>0.267639</td>\n",
       "      <td>0.111709</td>\n",
       "      <td>1</td>\n",
       "      <td>{'n_neighbors': 1}</td>\n",
       "      <td>0.4515</td>\n",
       "      <td>0.5350</td>\n",
       "      <td>0.4665</td>\n",
       "      <td>0.4640</td>\n",
       "      <td>0.3230</td>\n",
       "      <td>0.4480</td>\n",
       "      <td>0.068999</td>\n",
       "      <td>4</td>\n",
       "    </tr>\n",
       "    <tr>\n",
       "      <th>1</th>\n",
       "      <td>0.004506</td>\n",
       "      <td>0.000326</td>\n",
       "      <td>0.248493</td>\n",
       "      <td>0.003840</td>\n",
       "      <td>3</td>\n",
       "      <td>{'n_neighbors': 3}</td>\n",
       "      <td>0.4435</td>\n",
       "      <td>0.5555</td>\n",
       "      <td>0.4775</td>\n",
       "      <td>0.4700</td>\n",
       "      <td>0.3375</td>\n",
       "      <td>0.4568</td>\n",
       "      <td>0.070362</td>\n",
       "      <td>3</td>\n",
       "    </tr>\n",
       "    <tr>\n",
       "      <th>2</th>\n",
       "      <td>0.004228</td>\n",
       "      <td>0.000497</td>\n",
       "      <td>0.279172</td>\n",
       "      <td>0.004867</td>\n",
       "      <td>7</td>\n",
       "      <td>{'n_neighbors': 7}</td>\n",
       "      <td>0.4400</td>\n",
       "      <td>0.5790</td>\n",
       "      <td>0.4905</td>\n",
       "      <td>0.5025</td>\n",
       "      <td>0.3575</td>\n",
       "      <td>0.4739</td>\n",
       "      <td>0.073263</td>\n",
       "      <td>2</td>\n",
       "    </tr>\n",
       "    <tr>\n",
       "      <th>3</th>\n",
       "      <td>0.004485</td>\n",
       "      <td>0.000503</td>\n",
       "      <td>0.276026</td>\n",
       "      <td>0.007129</td>\n",
       "      <td>10</td>\n",
       "      <td>{'n_neighbors': 10}</td>\n",
       "      <td>0.4525</td>\n",
       "      <td>0.5945</td>\n",
       "      <td>0.5050</td>\n",
       "      <td>0.5000</td>\n",
       "      <td>0.3570</td>\n",
       "      <td>0.4818</td>\n",
       "      <td>0.077465</td>\n",
       "      <td>1</td>\n",
       "    </tr>\n",
       "  </tbody>\n",
       "</table>\n",
       "</div>"
      ],
      "text/plain": [
       "   mean_fit_time  std_fit_time  mean_score_time  std_score_time  \\\n",
       "0       0.006947      0.002834         0.267639        0.111709   \n",
       "1       0.004506      0.000326         0.248493        0.003840   \n",
       "2       0.004228      0.000497         0.279172        0.004867   \n",
       "3       0.004485      0.000503         0.276026        0.007129   \n",
       "\n",
       "  param_n_neighbors               params  split0_test_score  \\\n",
       "0                 1   {'n_neighbors': 1}             0.4515   \n",
       "1                 3   {'n_neighbors': 3}             0.4435   \n",
       "2                 7   {'n_neighbors': 7}             0.4400   \n",
       "3                10  {'n_neighbors': 10}             0.4525   \n",
       "\n",
       "   split1_test_score  split2_test_score  split3_test_score  split4_test_score  \\\n",
       "0             0.5350             0.4665             0.4640             0.3230   \n",
       "1             0.5555             0.4775             0.4700             0.3375   \n",
       "2             0.5790             0.4905             0.5025             0.3575   \n",
       "3             0.5945             0.5050             0.5000             0.3570   \n",
       "\n",
       "   mean_test_score  std_test_score  rank_test_score  \n",
       "0           0.4480        0.068999                4  \n",
       "1           0.4568        0.070362                3  \n",
       "2           0.4739        0.073263                2  \n",
       "3           0.4818        0.077465                1  "
      ]
     },
     "execution_count": 8,
     "metadata": {},
     "output_type": "execute_result"
    }
   ],
   "source": [
    "# Showing the results\n",
    "pd.DataFrame(grid_neighbor.cv_results_)"
   ]
  },
  {
   "cell_type": "markdown",
   "metadata": {},
   "source": [
    "## Model Persistence"
   ]
  },
  {
   "cell_type": "code",
   "execution_count": 9,
   "metadata": {},
   "outputs": [],
   "source": [
    "# Import joblib\n",
    "import joblib"
   ]
  },
  {
   "cell_type": "code",
   "execution_count": 10,
   "metadata": {},
   "outputs": [
    {
     "data": {
      "text/plain": [
       "['knn.joblib']"
      ]
     },
     "execution_count": 10,
     "metadata": {},
     "output_type": "execute_result"
    }
   ],
   "source": [
    "# Saving the model\n",
    "joblib.dump(grid_neighbor, 'knn.joblib')"
   ]
  },
  {
   "cell_type": "code",
   "execution_count": 11,
   "metadata": {},
   "outputs": [],
   "source": [
    "# Retreving the model\n",
    "knn_model = joblib.load('knn.joblib')"
   ]
  },
  {
   "cell_type": "code",
   "execution_count": 12,
   "metadata": {},
   "outputs": [],
   "source": [
    "# Get a \"new\" observation\n",
    "new_observation = np.array(X_orig.iloc[10000]).reshape(1, -1)"
   ]
  },
  {
   "cell_type": "code",
   "execution_count": 13,
   "metadata": {},
   "outputs": [
    {
     "name": "stderr",
     "output_type": "stream",
     "text": [
      "C:\\ProgramData\\Anaconda3\\lib\\site-packages\\sklearn\\base.py:450: UserWarning: X does not have valid feature names, but KNeighborsClassifier was fitted with feature names\n",
      "  warnings.warn(\n"
     ]
    },
    {
     "data": {
      "text/plain": [
       "array([7])"
      ]
     },
     "execution_count": 13,
     "metadata": {},
     "output_type": "execute_result"
    }
   ],
   "source": [
    "# Predict on the new observation\n",
    "knn_model.predict(new_observation)"
   ]
  }
 ],
 "metadata": {
  "kernelspec": {
   "display_name": "Python 3 (ipykernel)",
   "language": "python",
   "name": "python3"
  },
  "language_info": {
   "codemirror_mode": {
    "name": "ipython",
    "version": 3
   },
   "file_extension": ".py",
   "mimetype": "text/x-python",
   "name": "python",
   "nbconvert_exporter": "python",
   "pygments_lexer": "ipython3",
   "version": "3.9.12"
  }
 },
 "nbformat": 4,
 "nbformat_minor": 4
}
