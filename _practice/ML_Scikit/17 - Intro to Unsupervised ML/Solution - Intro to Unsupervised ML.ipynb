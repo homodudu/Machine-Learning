{
 "cells": [
  {
   "cell_type": "markdown",
   "metadata": {},
   "source": [
    "# Intro to Unsupervised ML"
   ]
  },
  {
   "cell_type": "markdown",
   "metadata": {},
   "source": [
    "In this module you are going to learn about unsupervised machine learning. As an example, you are going to learn a bit about the k-means model. In the programming part, we will show you how this model is implemented in scikit-learn."
   ]
  },
  {
   "cell_type": "markdown",
   "metadata": {},
   "source": [
    "<b>Functions and attributes in this lecture: </b>\n",
    "- `sklearn.datasets` - Module containing datasets and functions to make toy datasets.\n",
    " - `make_blobs` - Makes a dataset containing clusters with given center points.\n",
    "- `sklearn.cluster` - Module containing clustering algorithms.\n",
    " - `KMeans` - The k-means model."
   ]
  },
  {
   "cell_type": "code",
   "execution_count": 1,
   "metadata": {},
   "outputs": [],
   "source": [
    "# Non-sklearn packages\n",
    "import numpy as np\n",
    "import pandas as pd"
   ]
  },
  {
   "cell_type": "markdown",
   "metadata": {},
   "source": [
    "## Implementing K-means"
   ]
  },
  {
   "cell_type": "code",
   "execution_count": 2,
   "metadata": {},
   "outputs": [],
   "source": [
    "# Import the function for creating datasets\n",
    "from sklearn.datasets import make_blobs"
   ]
  },
  {
   "cell_type": "code",
   "execution_count": 3,
   "metadata": {},
   "outputs": [
    {
     "data": {
      "text/plain": [
       "array([[ 0,  1,  2,  3,  4],\n",
       "       [ 5,  6,  7,  8,  9],\n",
       "       [10, 11, 12, 13, 14]])"
      ]
     },
     "execution_count": 3,
     "metadata": {},
     "output_type": "execute_result"
    }
   ],
   "source": [
    "# Create the centers of the clusters\n",
    "center_points = np.reshape(np.arange(0, 15), [3, 5])\n",
    "center_points"
   ]
  },
  {
   "cell_type": "code",
   "execution_count": 4,
   "metadata": {},
   "outputs": [
    {
     "data": {
      "text/plain": [
       "array([[12.33487576, 10.28503418, 11.53363527, 12.91116622, 14.57765893],\n",
       "       [ 5.82610098,  5.2830118 ,  8.48936272,  8.85627524,  8.93469621],\n",
       "       [ 5.18476589,  6.10457035,  7.16599423,  7.45716651,  9.17982397],\n",
       "       [ 6.13902135,  5.79997551,  8.11246539,  6.10073586,  9.08776711],\n",
       "       [-0.4758979 ,  2.27064271,  1.78505685,  3.47807821,  3.77737501],\n",
       "       [ 5.58299544,  5.59408438,  6.52899346,  8.59557453,  7.72688389],\n",
       "       [ 5.69329808,  5.30440122,  7.77454105,  7.60176424, 10.56692184],\n",
       "       [11.03246404, 11.58824558, 12.3859532 , 12.2991741 , 13.82288075],\n",
       "       [ 5.4957315 ,  5.29227507,  7.97068767,  8.87718816,  9.1633068 ],\n",
       "       [ 9.41849328, 10.11313696, 11.85669003, 13.99394372, 13.52595818],\n",
       "       [ 5.26059526,  5.62290657,  5.60006295,  9.40530748,  9.00128205],\n",
       "       [-0.88563434,  0.40077889,  3.82615667,  2.77748395,  3.84805947],\n",
       "       [ 5.29619387,  6.06054863,  6.62474294,  7.55264887, 10.38221295],\n",
       "       [11.71755492,  9.76973392, 11.38438588, 12.66844282, 15.26681026],\n",
       "       [ 0.9635633 ,  0.75903061,  2.39684697,  2.44768303,  3.81096322],\n",
       "       [ 0.12851397, -0.43276452,  1.99385388,  1.8198466 ,  3.28461414],\n",
       "       [-0.45560757,  2.21730361,  2.37634055,  3.21238951,  4.8891118 ],\n",
       "       [ 4.49408095,  6.5084825 ,  7.78390482,  8.05100385,  9.88063791],\n",
       "       [ 0.05929749,  2.27516961,  2.44738822,  3.07591055,  3.85933959],\n",
       "       [10.43910374, 10.63425915, 13.41419328, 10.37259019, 12.15930431],\n",
       "       [ 0.84650565, -0.79407164,  0.87352157,  1.82585879,  5.36311695],\n",
       "       [ 1.97705094,  1.03707721,  1.65084247,  5.15646649,  3.64651025],\n",
       "       [ 9.34483402, 12.21677705, 12.89662141, 14.8755594 , 14.50114687],\n",
       "       [10.04065266, 10.49220297, 12.90771278, 11.77839272, 12.82318283],\n",
       "       [10.13069604, 11.67546858, 11.27031551, 13.31407523, 14.96567153],\n",
       "       [ 0.87277198,  2.57654742,  2.35082125,  2.5253834 ,  1.62082425],\n",
       "       [ 5.55181949,  5.97526546,  7.42181156,  8.44410675,  9.04520787],\n",
       "       [ 4.38000057,  5.49864586,  8.14758761, 10.09889052,  9.06887717],\n",
       "       [-0.92424012,  0.59392058,  1.37768796,  1.95625089,  4.82675291],\n",
       "       [10.10506413, 10.14446836, 13.08296949, 10.58776249, 14.70230795],\n",
       "       [ 1.56295131,  0.18476415,  2.85455311,  2.68141382,  3.92282944],\n",
       "       [ 8.91841546, 12.19652267, 13.86946903, 12.07767084, 13.41615596],\n",
       "       [ 3.70680535,  5.60020755,  8.17146152,  9.74237429,  9.3689475 ],\n",
       "       [ 4.18913157,  5.51038588,  6.27679285,  7.96574352,  9.6405836 ],\n",
       "       [ 9.8869202 , 10.56433259,  9.39321611, 15.47996357, 13.54066506],\n",
       "       [-0.68912542,  1.80398897,  3.07445134,  2.20186609,  4.42788853],\n",
       "       [10.41884794, 13.04082591, 13.06749159, 11.82892788, 13.25393587],\n",
       "       [ 4.99588014,  5.06068224,  6.8852032 ,  7.62001204,  9.31328679],\n",
       "       [ 3.50673361,  6.95634651,  5.19353595,  7.88344886,  7.05954535],\n",
       "       [ 8.45609096, 10.8909415 , 11.89827504, 12.6080272 , 13.46675851],\n",
       "       [-0.1583013 ,  0.97896972,  1.25429908,  3.81851323,  5.3929396 ],\n",
       "       [ 4.08891021,  6.50899635,  6.87122155,  7.32982577,  6.8918416 ],\n",
       "       [10.80719636, 10.97113296, 13.33828508, 13.79861398, 15.61223531],\n",
       "       [ 4.79141119,  4.92147779,  6.94463502,  7.76387541,  7.48340207],\n",
       "       [ 3.98538718,  6.62469756,  6.13342247,  7.16244228,  9.17397426],\n",
       "       [ 3.69871522,  7.01732048,  7.07854258,  5.97450712, 11.92568432],\n",
       "       [ 8.91085597, 10.49644373, 12.26852106,  9.87708066, 12.94730883],\n",
       "       [ 4.70986984,  5.86337839,  6.2663043 ,  7.80690266, 10.37731723],\n",
       "       [ 6.07069317,  5.91801551,  6.01921712,  9.44514686,  9.12214234],\n",
       "       [-0.78025951,  2.64408032,  2.47761196,  2.34645648,  1.44457315],\n",
       "       [10.08206368, 11.23826687, 13.43853193, 11.49165477, 14.26988926],\n",
       "       [ 0.73101745,  0.35381451,  2.04355193,  3.86894369,  4.71562191],\n",
       "       [ 3.42012089,  4.98587901,  6.62773704,  8.58407749, 10.14324532],\n",
       "       [ 2.9197429 ,  2.09957756,  2.20757402,  1.35672   ,  4.2240887 ],\n",
       "       [ 9.457288  , 12.59024359, 10.33637227, 13.83400839, 15.42331159],\n",
       "       [10.8403042 , 12.7088874 , 12.2438601 , 15.16723815, 15.05911005],\n",
       "       [ 0.93589774,  0.12165166,  0.76729547,  4.20243465,  4.06186482],\n",
       "       [-0.4713404 ,  1.30358656,  0.91522835,  2.3406002 ,  4.5436554 ],\n",
       "       [ 5.20569725,  6.79406088,  6.21737545,  5.24372696, 10.48376874],\n",
       "       [-2.46413509,  1.01655202,  3.73738184,  2.74669633,  4.88825335],\n",
       "       [ 8.79695856, 10.29274543, 12.52144554, 14.20674532, 15.95237307],\n",
       "       [-0.18571539, -0.38125714,  3.01752324,  3.48037539,  5.03478825],\n",
       "       [ 9.66855861, 10.13783108, 12.49244484, 12.20901821, 14.02622695],\n",
       "       [-0.86833203, -0.06337734,  1.37852086,  2.78885753,  2.342104  ],\n",
       "       [ 9.74781935, 12.92519037, 12.31927711, 12.44858691, 14.84752406],\n",
       "       [-0.97302594,  1.14686833,  3.75346209,  2.25513412,  1.70320808],\n",
       "       [-1.29789947,  2.82844747,  1.57989629,  1.3536894 ,  3.90556192],\n",
       "       [-0.13103491,  0.81471016,  1.98062214,  2.06870362,  3.84740113],\n",
       "       [ 9.68741303, 10.75532132,  9.93264408, 12.90150429, 12.59348184],\n",
       "       [ 9.75664788, 12.67274644, 11.72550749, 12.8283173 , 15.07643862],\n",
       "       [-0.97021905,  1.91068153,  1.61196536,  3.48556894,  4.05532547],\n",
       "       [ 9.50424099, 11.85908128, 10.89345753, 13.20971987, 16.06503822],\n",
       "       [ 9.68901137, 12.56812426, 13.57494984, 14.08777719, 12.74211843],\n",
       "       [ 6.86431891,  6.34993556,  7.10161355,  8.33290847,  9.58731226],\n",
       "       [10.512579  ,  9.99387111, 10.5471267 , 11.8394478 , 13.0457192 ],\n",
       "       [ 9.32843934, 11.3919787 , 11.19032048, 13.86011975, 13.63688749],\n",
       "       [-1.16053945,  1.34982065,  2.67162021,  3.60691117,  5.58923227],\n",
       "       [ 3.83601972,  4.9159467 ,  6.74379315,  9.14292923,  9.15873619],\n",
       "       [ 4.79499519,  5.65116626,  7.37881506,  7.51976565,  9.24794822],\n",
       "       [ 0.4097079 ,  1.56994633,  0.33727645,  2.64976404,  4.72576816],\n",
       "       [10.80741617, 11.94815776, 11.66055173, 13.71491918, 13.77491133],\n",
       "       [ 8.7973579 , 11.99969262, 12.14793293, 12.4973247 , 13.310851  ],\n",
       "       [ 1.50703823,  0.22499503,  2.94573904,  1.92022399,  3.48324809],\n",
       "       [ 0.23879207,  0.89439004,  2.29346608,  2.38076821,  5.56260954],\n",
       "       [ 4.55783681,  5.28699983,  8.07969708,  6.27655627,  9.55308523],\n",
       "       [ 8.13788339, 11.5565944 , 13.33743096, 13.65416351, 13.86770187],\n",
       "       [-0.12733314,  1.24123787,  1.78742748,  2.69736553,  4.76771691],\n",
       "       [ 2.88451023,  6.46681873,  7.13296604,  9.2242456 ,  7.77862327],\n",
       "       [-0.39125656,  1.183138  ,  1.64737495,  2.69251563,  5.27959959],\n",
       "       [ 0.9755582 ,  0.35470227,  3.41426144,  3.38616545,  4.66776808],\n",
       "       [ 2.96806894,  7.05338578,  5.53140047,  8.27455553,  9.69795751],\n",
       "       [ 5.52595097,  6.04164243,  6.99669706,  7.47790462,  8.56266771],\n",
       "       [ 3.70564459,  5.39310672,  8.23857794,  8.13181233,  8.58784409],\n",
       "       [ 9.96667943, 10.22245038, 12.10847706, 12.81400877, 15.71542892],\n",
       "       [ 1.25751535,  2.06558411,  1.38958582,  2.56999943,  4.93185354],\n",
       "       [ 5.52718619,  4.5257085 ,  6.73470638,  7.68361228,  8.85153655],\n",
       "       [ 8.63236052, 10.15148949, 11.43467371, 13.14787189, 14.04772405],\n",
       "       [ 0.27162914,  1.37778321,  1.00445797,  3.48474866,  4.7619632 ],\n",
       "       [ 9.83716653, 10.71967453, 14.80948784, 12.71464547, 12.39847824],\n",
       "       [ 5.44059078,  6.94025652,  6.34756554,  6.96313907,  8.62073027]])"
      ]
     },
     "execution_count": 4,
     "metadata": {},
     "output_type": "execute_result"
    }
   ],
   "source": [
    "# Make the dataset\n",
    "X, y = make_blobs(n_features=5, centers=center_points, return_centers=False)\n",
    "X"
   ]
  },
  {
   "cell_type": "code",
   "execution_count": 5,
   "metadata": {},
   "outputs": [
    {
     "data": {
      "text/plain": [
       "<AxesSubplot:xlabel='1', ylabel='2'>"
      ]
     },
     "execution_count": 5,
     "metadata": {},
     "output_type": "execute_result"
    },
    {
     "data": {
      "image/png": "[encoded data removed]",
      "text/plain": [
       "<Figure size 432x288 with 1 Axes>"
      ]
     },
     "metadata": {
      "needs_background": "light"
     },
     "output_type": "display_data"
    }
   ],
   "source": [
    "# Create a scatterplot of the first two features\n",
    "pd.DataFrame(X).plot.scatter(x=1, y=2)"
   ]
  },
  {
   "cell_type": "code",
   "execution_count": 6,
   "metadata": {},
   "outputs": [],
   "source": [
    "# Import the k-means model\n",
    "from sklearn.cluster import KMeans"
   ]
  },
  {
   "cell_type": "code",
   "execution_count": 7,
   "metadata": {},
   "outputs": [],
   "source": [
    "# Create a k-means model\n",
    "kmeans_model = KMeans(n_clusters=3)"
   ]
  },
  {
   "cell_type": "code",
   "execution_count": 8,
   "metadata": {},
   "outputs": [
    {
     "data": {
      "text/plain": [
       "KMeans(n_clusters=3)"
      ]
     },
     "execution_count": 8,
     "metadata": {},
     "output_type": "execute_result"
    }
   ],
   "source": [
    "# Train the k-means model\n",
    "kmeans_model.fit(X)"
   ]
  },
  {
   "cell_type": "code",
   "execution_count": 9,
   "metadata": {},
   "outputs": [
    {
     "data": {
      "text/plain": [
       "array([[ 9.85491677, 11.23672343, 12.16006748, 12.88177159, 14.0737938 ],\n",
       "       [ 0.06610753,  1.11553796,  2.09481361,  2.78411138,  4.15313326],\n",
       "       [ 4.76906307,  5.8615328 ,  6.98761926,  7.95727801,  9.17175146]])"
      ]
     },
     "execution_count": 9,
     "metadata": {},
     "output_type": "execute_result"
    }
   ],
   "source": [
    "# Give out the centers\n",
    "kmeans_model.cluster_centers_"
   ]
  },
  {
   "cell_type": "code",
   "execution_count": 10,
   "metadata": {},
   "outputs": [
    {
     "data": {
      "text/plain": [
       "array([0, 2, 2, 2, 1, 2, 2, 0, 2, 0, 2, 1, 2, 0, 1, 1, 1, 2, 1, 0, 1, 1,\n",
       "       0, 0, 0, 1, 2, 2, 1, 0, 1, 0, 2, 2, 0, 1, 0, 2, 2, 0, 1, 2, 0, 2,\n",
       "       2, 2, 0, 2, 2, 1, 0, 1, 2, 1, 0, 0, 1, 1, 2, 1, 0, 1, 0, 1, 0, 1,\n",
       "       1, 1, 0, 0, 1, 0, 0, 2, 0, 0, 1, 2, 2, 1, 0, 0, 1, 1, 2, 0, 1, 2,\n",
       "       1, 1, 2, 2, 2, 0, 1, 2, 0, 1, 0, 2])"
      ]
     },
     "execution_count": 10,
     "metadata": {},
     "output_type": "execute_result"
    }
   ],
   "source": [
    "# Get the labels of the data points in the training set\n",
    "kmeans_model.labels_"
   ]
  },
  {
   "cell_type": "code",
   "execution_count": 11,
   "metadata": {},
   "outputs": [
    {
     "data": {
      "text/plain": [
       "array([1])"
      ]
     },
     "execution_count": 11,
     "metadata": {},
     "output_type": "execute_result"
    }
   ],
   "source": [
    "# Predict the class of a new point\n",
    "kmeans_model.predict([[1, 2, 1, 2, 1]])"
   ]
  }
 ],
 "metadata": {
  "kernelspec": {
   "display_name": "Python 3 (ipykernel)",
   "language": "python",
   "name": "python3"
  },
  "language_info": {
   "codemirror_mode": {
    "name": "ipython",
    "version": 3
   },
   "file_extension": ".py",
   "mimetype": "text/x-python",
   "name": "python",
   "nbconvert_exporter": "python",
   "pygments_lexer": "ipython3",
   "version": "3.9.12"
  }
 },
 "nbformat": 4,
 "nbformat_minor": 4
}
